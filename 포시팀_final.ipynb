{
 "cells": [
  {
   "cell_type": "code",
   "execution_count": 1,
   "metadata": {},
   "outputs": [],
   "source": [
    "import pandas as pd\n",
    "import numpy as np\n",
    "import seaborn as sns\n",
    "import matplotlib.pyplot as plt\n",
    "from matplotlib import font_manager\n",
    "import platform"
   ]
  },
  {
   "cell_type": "markdown",
   "metadata": {},
   "source": [
    "# 포스트시즌 진출 팀 데이터"
   ]
  },
  {
   "cell_type": "code",
   "execution_count": 2,
   "metadata": {},
   "outputs": [],
   "source": [
    "postseason = pd.read_csv(\"postseason.csv\")\n",
    "team = pd.read_csv('team.csv')"
   ]
  },
  {
   "cell_type": "markdown",
   "metadata": {},
   "source": [
    "- 참석 팀 데이터"
   ]
  },
  {
   "cell_type": "code",
   "execution_count": 3,
   "metadata": {},
   "outputs": [],
   "source": [
    "# 승리 팀 데이터 (연도, 팀 ID, 리그 ID)\n",
    "winners = postseason[['year', 'team_id_winner', 'league_id_winner']].rename(\n",
    "    columns={'team_id_winner': 'team_id', 'league_id_winner': 'league_id'}\n",
    ")"
   ]
  },
  {
   "cell_type": "code",
   "execution_count": 4,
   "metadata": {},
   "outputs": [],
   "source": [
    "# 패배 팀 데이터 (연도, 팀 ID, 리그 ID)\n",
    "losers = postseason[['year', 'team_id_loser', 'league_id_loser']].rename(\n",
    "    columns={'team_id_loser': 'team_id', 'league_id_loser': 'league_id'}\n",
    ")"
   ]
  },
  {
   "cell_type": "code",
   "execution_count": 5,
   "metadata": {},
   "outputs": [
    {
     "data": {
      "text/html": [
       "<div>\n",
       "<style scoped>\n",
       "    .dataframe tbody tr th:only-of-type {\n",
       "        vertical-align: middle;\n",
       "    }\n",
       "\n",
       "    .dataframe tbody tr th {\n",
       "        vertical-align: top;\n",
       "    }\n",
       "\n",
       "    .dataframe thead th {\n",
       "        text-align: right;\n",
       "    }\n",
       "</style>\n",
       "<table border=\"1\" class=\"dataframe\">\n",
       "  <thead>\n",
       "    <tr style=\"text-align: right;\">\n",
       "      <th></th>\n",
       "      <th>year</th>\n",
       "      <th>team_id</th>\n",
       "      <th>league_id</th>\n",
       "    </tr>\n",
       "  </thead>\n",
       "  <tbody>\n",
       "    <tr>\n",
       "      <th>0</th>\n",
       "      <td>1884</td>\n",
       "      <td>PRO</td>\n",
       "      <td>NL</td>\n",
       "    </tr>\n",
       "    <tr>\n",
       "      <th>1</th>\n",
       "      <td>1885</td>\n",
       "      <td>CHC</td>\n",
       "      <td>NL</td>\n",
       "    </tr>\n",
       "    <tr>\n",
       "      <th>2</th>\n",
       "      <td>1886</td>\n",
       "      <td>STL</td>\n",
       "      <td>AA</td>\n",
       "    </tr>\n",
       "    <tr>\n",
       "      <th>3</th>\n",
       "      <td>1887</td>\n",
       "      <td>DTN</td>\n",
       "      <td>NL</td>\n",
       "    </tr>\n",
       "    <tr>\n",
       "      <th>4</th>\n",
       "      <td>1888</td>\n",
       "      <td>NYG</td>\n",
       "      <td>NL</td>\n",
       "    </tr>\n",
       "    <tr>\n",
       "      <th>...</th>\n",
       "      <td>...</td>\n",
       "      <td>...</td>\n",
       "      <td>...</td>\n",
       "    </tr>\n",
       "    <tr>\n",
       "      <th>421</th>\n",
       "      <td>2015</td>\n",
       "      <td>NYA</td>\n",
       "      <td>AL</td>\n",
       "    </tr>\n",
       "    <tr>\n",
       "      <th>422</th>\n",
       "      <td>2015</td>\n",
       "      <td>TEX</td>\n",
       "      <td>AL</td>\n",
       "    </tr>\n",
       "    <tr>\n",
       "      <th>423</th>\n",
       "      <td>2015</td>\n",
       "      <td>PIT</td>\n",
       "      <td>NL</td>\n",
       "    </tr>\n",
       "    <tr>\n",
       "      <th>424</th>\n",
       "      <td>2015</td>\n",
       "      <td>SLN</td>\n",
       "      <td>NL</td>\n",
       "    </tr>\n",
       "    <tr>\n",
       "      <th>425</th>\n",
       "      <td>2015</td>\n",
       "      <td>LAN</td>\n",
       "      <td>NL</td>\n",
       "    </tr>\n",
       "  </tbody>\n",
       "</table>\n",
       "<p>426 rows × 3 columns</p>\n",
       "</div>"
      ],
      "text/plain": [
       "     year team_id league_id\n",
       "0    1884     PRO        NL\n",
       "1    1885     CHC        NL\n",
       "2    1886     STL        AA\n",
       "3    1887     DTN        NL\n",
       "4    1888     NYG        NL\n",
       "..    ...     ...       ...\n",
       "421  2015     NYA        AL\n",
       "422  2015     TEX        AL\n",
       "423  2015     PIT        NL\n",
       "424  2015     SLN        NL\n",
       "425  2015     LAN        NL\n",
       "\n",
       "[426 rows x 3 columns]"
      ]
     },
     "execution_count": 5,
     "metadata": {},
     "output_type": "execute_result"
    }
   ],
   "source": [
    "# 포시 진출 팀 데이터셋\n",
    "post_team = pd.concat([winners, losers]).drop_duplicates().reset_index(drop=True)\n",
    "post_team"
   ]
  },
  {
   "cell_type": "markdown",
   "metadata": {},
   "source": [
    "- 결측값 정리"
   ]
  },
  {
   "cell_type": "code",
   "execution_count": 6,
   "metadata": {},
   "outputs": [],
   "source": [
    "def fill_missing_values(df):\n",
    "    # 문자형 결측값: 'unk'로 채우기\n",
    "    df = df.apply(lambda col: col.fillna('unk') if col.dtype == 'object' else col)\n",
    "    \n",
    "    # 수치형 결측값: 열의 평균으로 채우기\n",
    "    df = df.apply(lambda col: col.fillna(col.mean()) if col.dtype != 'object' else col)\n",
    "    \n",
    "    return df"
   ]
  },
  {
   "cell_type": "code",
   "execution_count": 7,
   "metadata": {},
   "outputs": [],
   "source": [
    "team = fill_missing_values(team)"
   ]
  },
  {
   "cell_type": "markdown",
   "metadata": {},
   "source": [
    "- 특성 정리"
   ]
  },
  {
   "cell_type": "code",
   "execution_count": 8,
   "metadata": {},
   "outputs": [],
   "source": [
    "# 팀 지표 계산\n",
    "def calculate_team_metrics(df):\n",
    "    df['BA'] = df['h'] / df['ab']  # 타율\n",
    "    df['OBP'] = (df['h'] + df['bb']) / (df['ab'] + df['bb'])  # 출루율\n",
    "    df['SLG'] = (df['hr'] * 4) / df['ab']  # 장타율\n",
    "    df['OPS'] = df['OBP'] + df['SLG']  # OPS\n",
    "    df['WP'] = df['w'] / (df['w'] + df['l'])  # 승률\n",
    "    df['PAR'] = df['r'] / df['bpf']  # 조정 득점\n",
    "    df['PARA'] = df['ra'] / df['ppf']  # 조정 실점\n",
    "    return df\n",
    "\n",
    "team = calculate_team_metrics(team)"
   ]
  },
  {
   "cell_type": "code",
   "execution_count": 9,
   "metadata": {},
   "outputs": [],
   "source": [
    "# 리그 평균 지표 계산\n",
    "league_avg_metrics = team.groupby(['year', 'league_id']).agg({\n",
    "    'BA': 'mean', 'OBP': 'mean', 'SLG': 'mean', 'OPS': 'mean', \n",
    "    'era' : 'mean','WP': 'mean', 'PAR': 'mean', 'PARA': 'mean'\n",
    "}).reset_index()"
   ]
  },
  {
   "cell_type": "code",
   "execution_count": 10,
   "metadata": {},
   "outputs": [],
   "source": [
    "# 데이터 결합\n",
    "team_metrics_with_diff = pd.merge(team, league_avg_metrics, on=['year', 'league_id'], suffixes=('', '_league'))\n",
    "performance_columns = ['BA', 'OBP', 'SLG', 'OPS', 'era', 'WP', 'PAR', 'PARA']\n",
    "\n",
    "for col in performance_columns:\n",
    "    team_metrics_with_diff[f'{col}_diff'] = team_metrics_with_diff[col] - team_metrics_with_diff[f'{col}_league']\n"
   ]
  },
  {
   "cell_type": "code",
   "execution_count": 11,
   "metadata": {},
   "outputs": [
    {
     "data": {
      "text/plain": [
       "year            0\n",
       "league_id       0\n",
       "team_id         0\n",
       "franchise_id    0\n",
       "div_id          0\n",
       "               ..\n",
       "OPS_diff        0\n",
       "era_diff        0\n",
       "WP_diff         0\n",
       "PAR_diff        0\n",
       "PARA_diff       0\n",
       "Length: 71, dtype: int64"
      ]
     },
     "execution_count": 11,
     "metadata": {},
     "output_type": "execute_result"
    }
   ],
   "source": [
    "team_metrics_with_diff.isnull().sum()"
   ]
  },
  {
   "cell_type": "markdown",
   "metadata": {},
   "source": [
    "##### 팀 이름 매핑"
   ]
  },
  {
   "cell_type": "code",
   "execution_count": 12,
   "metadata": {},
   "outputs": [],
   "source": [
    "team_mapping = {\n",
    "    'BS1': 'Boston Red Sox', 'CH1': 'Chicago Cubs', 'CL1': 'Cleveland Indians', \n",
    "    'FW1': 'Fort Wayne TinCaps', 'NY2': 'New York Mets', 'PH1': 'Philadelphia Phillies', \n",
    "    'RC1': 'Richmond Braves', 'TRO': 'Tampa Bay Rays', 'WS3': 'Washington Nationals', \n",
    "    'BL1': 'Baltimore Orioles', 'BR1': 'Boston Red Sox', 'BR2': 'Brooklyn Dodgers', \n",
    "    'MID': 'Minnesota Twins', 'WS4': 'Washington Nationals', 'BL4': 'Baltimore Orioles', \n",
    "    'ELI': 'El Paso Chihuahuas', 'PH2': 'Philadelphia Phillies', 'WS5': 'Washington Nationals', \n",
    "    'CH2': 'Chicago White Sox', 'HR1': 'Houston Astros', 'KEO': 'Kansas City Royals', \n",
    "    'NH1': 'New York Yankees', 'PH3': 'Philadelphia Phillies', 'SL1': 'St. Louis Cardinals', \n",
    "    'SL2': 'St. Louis Cardinals', 'WS6': 'Washington Nationals', 'BSN': 'Boston Red Sox', \n",
    "    'CHN': 'Chicago Cubs', 'CN1': 'Chicago White Sox', 'HAR': 'Harrisburg Senators', \n",
    "    'LS1': 'Louisville Bats', 'NY3': 'New York Mets', 'PHN': 'Philadelphia Phillies', \n",
    "    'SL3': 'St. Louis Cardinals', 'IN1': 'Indianapolis Indians', 'ML2': 'Mobile BayBears', \n",
    "    'PRO': 'Providence Grays', 'BFN': 'Buffalo Bisons', 'CL2': 'Cleveland Indians', \n",
    "    'SR1': 'Syracuse Chiefs', 'TRN': 'Tennessee Smokies', 'WOR': 'Worcester Red Sox', \n",
    "    'DTN': 'Durham Bulls', 'BL2': 'Baltimore Orioles', 'CN2': 'Chicago White Sox', \n",
    "    'LS2': 'Louisville Bats', 'PH4': 'Philadelphia Phillies', 'PT1': 'Portland Sea Dogs', \n",
    "    'SL4': 'St. Louis Cardinals', 'CL5': 'Cleveland Indians', 'NY1': 'New York Yankees', \n",
    "    'NY4': 'New York Mets', 'PHI': 'Philadelphia Phillies', 'ALT': 'Albuquerque Isotopes', \n",
    "    'BLU': 'Buffalo Bisons', 'BR3': 'Boston Red Sox', 'BSU': 'Boston Red Sox', 'CHU': 'Chattanooga Lookouts', \n",
    "    'CNU': 'Cincinnati Reds', 'IN2': 'Indianapolis Indians', 'KCU': 'Kansas City Royals', \n",
    "    'MLU': 'Mobile BayBears', 'PHU': 'Philadelphia Phillies', 'RIC': 'Richmond Braves', \n",
    "    'SLU': 'St. Louis Cardinals', 'SPU': 'Spokane Indians', 'TL1': 'Tulsa Drillers', \n",
    "    'WIL': 'Wilmington Blue Rocks', 'WS7': 'Washington Nationals', 'WSU': 'Washington Nationals', \n",
    "    'SL5': 'St. Louis Cardinals', 'KCN': 'Kansas City Royals', 'WS8': 'Washington Nationals', \n",
    "    'CL3': 'Cleveland Indians', 'IN3': 'Indianapolis Indians', 'PIT': 'Pittsburgh Pirates', \n",
    "    'KC2': 'Kansas City Royals', 'CL4': 'Cleveland Indians', 'CL6': 'Cleveland Indians', \n",
    "    'BFP': 'Buffalo Bisons', 'BL3': 'Baltimore Orioles', 'BR4': 'Brooklyn Dodgers', \n",
    "    'BRO': 'Brooklyn Dodgers', 'BRP': 'Brooklyn Dodgers', 'BSP': 'Boston Red Sox', \n",
    "    'CHP': 'Chicago Cubs', 'CIN': 'Cincinnati Reds', 'CLP': 'Cleveland Indians', \n",
    "    'NYP': 'New York Yankees', 'PHP': 'Philadelphia Phillies', 'PTP': 'Portland Sea Dogs', \n",
    "    'RC2': 'Richmond Braves', 'SR2': 'Syracuse Chiefs', 'TL2': 'Tulsa Drillers', \n",
    "    'BS2': 'Boston Red Sox', 'CN3': 'Chicago White Sox', 'ML3': 'Mobile BayBears', \n",
    "    'WS9': 'Washington Nationals', 'BLN': 'Baltimore Orioles', 'LS3': 'Louisville Bats', \n",
    "    'SLN': 'St. Louis Cardinals', 'WAS': 'Washington Nationals', 'BLA': 'Baltimore Orioles', \n",
    "    'BOS': 'Boston Red Sox', 'CHA': 'Chicago White Sox', 'CLE': 'Cleveland Indians', \n",
    "    'DET': 'Detroit Tigers', 'MLA': 'Milwaukee Brewers', 'PHA': 'Philadelphia Phillies', \n",
    "    'WS1': 'Washington Nationals', 'SLA': 'St. Louis Cardinals', 'NYA': 'New York Yankees', \n",
    "    'BLF': 'Baltimore Orioles', 'BRF': 'Brooklyn Dodgers', 'BUF': 'Buffalo Bisons', \n",
    "    'CHF': 'Chicago Cubs', 'IND': 'Indianapolis Indians', 'KCF': 'Kansas City Royals', \n",
    "    'PTF': 'Portland Sea Dogs', 'SLF': 'St. Louis Cardinals', 'NEW': 'New York Mets', \n",
    "    'ML1': 'Mobile BayBears', 'BAL': 'Baltimore Orioles', 'KC1': 'Kansas City Royals', \n",
    "    'LAN': 'Los Angeles Angels', 'SFN': 'San Francisco Giants', 'LAA': 'Los Angeles Angels', \n",
    "    'MIN': 'Minnesota Twins', 'WS2': 'Washington Nationals', 'HOU': 'Houston Astros', \n",
    "    'NYN': 'New York Mets', 'CAL': 'California Angels', 'ATL': 'Atlanta Braves', \n",
    "    'OAK': 'Oakland Athletics', 'KCA': 'Kansas City Royals', 'MON': 'Montreal Expos', \n",
    "    'SDN': 'San Diego Padres', 'SE1': 'Seattle Mariners', 'ML4': 'Milwaukee Brewers', \n",
    "    'TEX': 'Texas Rangers', 'SEA': 'Seattle Mariners', 'TOR': 'Toronto Blue Jays', \n",
    "    'COL': 'Colorado Rockies', 'FLO': 'Florida Marlins', 'ANA': 'Anaheim Angels', \n",
    "    'ARI': 'Arizona Diamondbacks', 'MIL': 'Milwaukee Brewers', 'TBA': 'Tampa Bay Rays', \n",
    "    'MIA': 'Miami Marlins'\n",
    "}"
   ]
  },
  {
   "cell_type": "markdown",
   "metadata": {},
   "source": [
    "##### 처리"
   ]
  },
  {
   "cell_type": "markdown",
   "metadata": {},
   "source": [
    "- 그래프 그리기"
   ]
  },
  {
   "cell_type": "code",
   "execution_count": 13,
   "metadata": {},
   "outputs": [],
   "source": [
    "# 팀 성능 시각화 함수\n",
    "def visualize_team_vs_post_team(year, team_name, team_data):\n",
    "    # 팀 이름을 ID로 변환\n",
    "    if team_name not in team_mapping.values() and team_name not in team_mapping.keys():\n",
    "        print(f\"팀 이름 '{team_name}'은 유효하지 않습니다.\")\n",
    "        return\n",
    "\n",
    "    team_id = [key for key, value in team_mapping.items() if value == team_name] if team_name in team_mapping.values() else [team_name]\n",
    "    \n",
    "    # 팀 데이터 필터링\n",
    "    team_data_for_year = team_data[(team_data['year'] == year) & (team_data['team_id'].isin(team_id))]\n",
    "\n",
    "    if team_data_for_year.empty:\n",
    "        print(f\"{year}년 {team_name} 팀에 대한 데이터가 없습니다.\")\n",
    "        return\n",
    "\n",
    "    # 성능 비교 지표\n",
    "    performance_columns = ['BA', 'OBP', 'SLG', 'OPS', 'era', 'WP', 'PAR', 'PARA']\n",
    "    diff = team_data_for_year[[f'{col}_diff' for col in performance_columns]].iloc[0].fillna(0).values\n",
    "\n",
    "    # 한글 폰트 설정\n",
    "    if platform.system() == \"Windows\":\n",
    "        font_path = \"C:/Windows/Fonts/malgun.ttf\"\n",
    "    elif platform.system() == \"Darwin\":  # macOS\n",
    "        font_path = \"/System/Library/Fonts/Supplemental/AppleGothic.ttf\"\n",
    "    else:  # Linux\n",
    "        font_path = \"/usr/share/fonts/truetype/nanum/NanumGothic.ttf\"\n",
    "    font_prop = font_manager.FontProperties(fname=font_path)\n",
    "    plt.rcParams['font.family'] = font_prop.get_name()\n",
    "\n",
    "    # 각도 계산\n",
    "    angles = np.linspace(0, 2 * np.pi, len(performance_columns), endpoint=False).tolist()\n",
    "    diff = np.concatenate((diff, [diff[0]]))\n",
    "    angles += angles[:1]\n",
    "\n",
    "    # 그래프 생성\n",
    "    fig, ax = plt.subplots(figsize=(6, 6), subplot_kw=dict(polar=True))\n",
    "\n",
    "    ax.fill(angles, diff, color='blue', alpha=0.25)\n",
    "    ax.plot(angles, diff, color='blue', linewidth=2)\n",
    "\n",
    "    ax.set_yticklabels([])\n",
    "    ax.set_xticks(angles[:-1])\n",
    "    ax.set_xticklabels(performance_columns, fontsize=12, fontweight='bold')\n",
    "\n",
    "    # 팀의 약어를 사용해 타이틀에 풀네임과 함께 표시\n",
    "    team_abbr = team_id[0] if team_name in team_mapping.values() else team_name\n",
    "    team_full_name = team_mapping.get(team_abbr, team_name)\n",
    "    ax.set_title(f\"{year}년 {team_abbr} ({team_full_name}) vs 포스트시즌 팀 평균\", size=15, fontweight='bold')\n",
    "\n",
    "    # 수치를 그래프에 표시\n",
    "    for i in range(len(diff)-1):\n",
    "        color = 'blue' if diff[i] < 0 else 'red'  # 음수는 파란색, 양수는 빨간색\n",
    "        ax.text(angles[i], diff[i] + 0.05, f\"{diff[i]:.2f}\", ha='center', \n",
    "                va='center', fontsize=12, color=color, fontweight='bold')\n",
    "\n",
    "    plt.show()"
   ]
  },
  {
   "cell_type": "markdown",
   "metadata": {},
   "source": [
    "- 프로그램 반응 코드"
   ]
  },
  {
   "cell_type": "code",
   "execution_count": 14,
   "metadata": {},
   "outputs": [],
   "source": [
    "def main():\n",
    "    # 연도 입력 받기\n",
    "    year = int(input(\"연도 입력: \"))  \n",
    "    \n",
    "    # 해당 연도의 팀 목록 추출\n",
    "    available_teams = team_metrics_with_diff[team_metrics_with_diff['year'] == year]['team_id'].unique()\n",
    "\n",
    "    # 연도에 맞는 팀 목록 출력\n",
    "    print(\"사용 가능한 팀 목록:\")\n",
    "    for abbr, full_name in team_mapping.items():\n",
    "        # 팀 약어가 해당 연도의 팀 목록에 포함되어 있을 경우 출력\n",
    "        if abbr in available_teams:\n",
    "            print(f\"{abbr}: {full_name}\")\n",
    "\n",
    "    # 팀 이름 또는 약어 입력 받기\n",
    "    team_name = input(\"팀 이름 또는 약어 입력 (예: 'Boston Red Sox' 또는 'BOS'): \")  \n",
    "\n",
    "    # 입력된 팀이 해당 연도에 존재하는지 확인\n",
    "    if team_name not in available_teams and team_name not in team_mapping:\n",
    "        print(f\"{team_name}는 {year}년에 존재하지 않는 팀입니다. 다시 입력해주세요.\")\n",
    "        return\n",
    "\n",
    "    # 팀 성능 시각화 호출\n",
    "    visualize_team_vs_post_team(year, team_name, team_metrics_with_diff)"
   ]
  },
  {
   "cell_type": "code",
   "execution_count": 26,
   "metadata": {},
   "outputs": [
    {
     "name": "stdout",
     "output_type": "stream",
     "text": [
      "연도와 팀이름을 입력해주세요.\n",
      "사용 가능한 팀 목록:\n",
      "CHN: Chicago Cubs\n",
      "PHI: Philadelphia Phillies\n",
      "PIT: Pittsburgh Pirates\n",
      "CIN: Cincinnati Reds\n",
      "SLN: St. Louis Cardinals\n",
      "WAS: Washington Nationals\n",
      "BOS: Boston Red Sox\n",
      "CHA: Chicago White Sox\n",
      "CLE: Cleveland Indians\n",
      "DET: Detroit Tigers\n",
      "NYA: New York Yankees\n",
      "BAL: Baltimore Orioles\n",
      "LAN: Los Angeles Angels\n",
      "SFN: San Francisco Giants\n",
      "LAA: Los Angeles Angels\n",
      "MIN: Minnesota Twins\n",
      "HOU: Houston Astros\n",
      "NYN: New York Mets\n",
      "ATL: Atlanta Braves\n",
      "OAK: Oakland Athletics\n",
      "KCA: Kansas City Royals\n",
      "SDN: San Diego Padres\n",
      "TEX: Texas Rangers\n",
      "SEA: Seattle Mariners\n",
      "TOR: Toronto Blue Jays\n",
      "COL: Colorado Rockies\n",
      "ARI: Arizona Diamondbacks\n",
      "MIL: Milwaukee Brewers\n",
      "TBA: Tampa Bay Rays\n",
      "MIA: Miami Marlins\n"
     ]
    },
    {
     "data": {
      "image/png": "[encoded data removed]",
      "text/plain": [
       "<Figure size 600x600 with 1 Axes>"
      ]
     },
     "metadata": {},
     "output_type": "display_data"
    }
   ],
   "source": [
    "# 프로그램 실행\n",
    "if __name__ == \"__main__\":\n",
    "    print(\"연도와 팀이름을 입력해주세요.\")\n",
    "    main()"
   ]
  },
  {
   "cell_type": "code",
   "execution_count": 21,
   "metadata": {},
   "outputs": [
    {
     "data": {
      "text/html": [
       "<div>\n",
       "<style scoped>\n",
       "    .dataframe tbody tr th:only-of-type {\n",
       "        vertical-align: middle;\n",
       "    }\n",
       "\n",
       "    .dataframe tbody tr th {\n",
       "        vertical-align: top;\n",
       "    }\n",
       "\n",
       "    .dataframe thead th {\n",
       "        text-align: right;\n",
       "    }\n",
       "</style>\n",
       "<table border=\"1\" class=\"dataframe\">\n",
       "  <thead>\n",
       "    <tr style=\"text-align: right;\">\n",
       "      <th></th>\n",
       "      <th>year</th>\n",
       "      <th>team_id</th>\n",
       "      <th>league_id</th>\n",
       "    </tr>\n",
       "  </thead>\n",
       "  <tbody>\n",
       "    <tr>\n",
       "      <th>198</th>\n",
       "      <td>2013</td>\n",
       "      <td>TBA</td>\n",
       "      <td>AL</td>\n",
       "    </tr>\n",
       "    <tr>\n",
       "      <th>199</th>\n",
       "      <td>2013</td>\n",
       "      <td>BOS</td>\n",
       "      <td>AL</td>\n",
       "    </tr>\n",
       "    <tr>\n",
       "      <th>200</th>\n",
       "      <td>2013</td>\n",
       "      <td>DET</td>\n",
       "      <td>AL</td>\n",
       "    </tr>\n",
       "    <tr>\n",
       "      <th>201</th>\n",
       "      <td>2013</td>\n",
       "      <td>PIT</td>\n",
       "      <td>NL</td>\n",
       "    </tr>\n",
       "    <tr>\n",
       "      <th>202</th>\n",
       "      <td>2013</td>\n",
       "      <td>SLN</td>\n",
       "      <td>NL</td>\n",
       "    </tr>\n",
       "    <tr>\n",
       "      <th>203</th>\n",
       "      <td>2013</td>\n",
       "      <td>LAN</td>\n",
       "      <td>NL</td>\n",
       "    </tr>\n",
       "    <tr>\n",
       "      <th>411</th>\n",
       "      <td>2013</td>\n",
       "      <td>CLE</td>\n",
       "      <td>AL</td>\n",
       "    </tr>\n",
       "    <tr>\n",
       "      <th>412</th>\n",
       "      <td>2013</td>\n",
       "      <td>OAK</td>\n",
       "      <td>AL</td>\n",
       "    </tr>\n",
       "    <tr>\n",
       "      <th>413</th>\n",
       "      <td>2013</td>\n",
       "      <td>CIN</td>\n",
       "      <td>NL</td>\n",
       "    </tr>\n",
       "    <tr>\n",
       "      <th>414</th>\n",
       "      <td>2013</td>\n",
       "      <td>ATL</td>\n",
       "      <td>NL</td>\n",
       "    </tr>\n",
       "  </tbody>\n",
       "</table>\n",
       "</div>"
      ],
      "text/plain": [
       "     year team_id league_id\n",
       "198  2013     TBA        AL\n",
       "199  2013     BOS        AL\n",
       "200  2013     DET        AL\n",
       "201  2013     PIT        NL\n",
       "202  2013     SLN        NL\n",
       "203  2013     LAN        NL\n",
       "411  2013     CLE        AL\n",
       "412  2013     OAK        AL\n",
       "413  2013     CIN        NL\n",
       "414  2013     ATL        NL"
      ]
     },
     "execution_count": 21,
     "metadata": {},
     "output_type": "execute_result"
    }
   ],
   "source": [
    "post_team[post_team['year']==2013]"
   ]
  },
  {
   "cell_type": "code",
   "execution_count": null,
   "metadata": {},
   "outputs": [],
   "source": []
  }
 ],
 "metadata": {
  "kernelspec": {
   "display_name": "base",
   "language": "python",
   "name": "python3"
  },
  "language_info": {
   "codemirror_mode": {
    "name": "ipython",
    "version": 3
   },
   "file_extension": ".py",
   "mimetype": "text/x-python",
   "name": "python",
   "nbconvert_exporter": "python",
   "pygments_lexer": "ipython3",
   "version": "3.9.12"
  }
 },
 "nbformat": 4,
 "nbformat_minor": 2
}
